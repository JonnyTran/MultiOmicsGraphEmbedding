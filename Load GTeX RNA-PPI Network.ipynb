{
 "cells": [
  {
   "cell_type": "code",
   "execution_count": 2,
   "metadata": {},
   "outputs": [],
   "source": [
    "%load_ext autoreload\n",
    "%autoreload 2\n",
    "\n",
    "import sys\n",
    "sys.path.insert(0, \"../openTCGA/\")\n",
    "sys.path.insert(0, \"../MultiOmicsGraphEmbedding//\")\n",
    "\n",
    "import os, pickle, random, itertools, logging\n",
    "import networkx as nx\n",
    "import numpy as np\n",
    "import pandas as pd\n",
    "import dask.dataframe as dd\n",
    "import scipy.sparse as sps\n",
    "import matplotlib.pyplot as plt\n",
    "import plotly.express as px\n",
    "import plotly.graph_objects as go\n",
    "\n",
    "import openomics\n",
    "from openomics import MultiOmics, Protein, MessengerRNA, MicroRNA, LncRNA\n",
    "from openomics.database import *\n",
    "from openomics.genomics import *\n",
    "\n",
    "from moge.visualization.data import matrix_heatmap, plot_coo_matrix\n",
    "from moge.visualization.embedding import visualize_embedding\n",
    "from moge.visualization.network import graph_viz\n",
    "from moge.network.semantic_similarity import *\n",
    "\n",
    "# pd.set_option('mode.chained_assignment', 'raise')"
   ]
  },
  {
   "cell_type": "code",
   "execution_count": 3,
   "metadata": {},
   "outputs": [
    {
     "data": {
      "text/plain": [
       "{'backend': <module 'pandas' from '/opt/anaconda3/lib/python3.7/site-packages/pandas/__init__.py'>,\n",
       " 'cache_dir': '/home/jonny/.openomics/cache'}"
      ]
     },
     "execution_count": 3,
     "metadata": {},
     "output_type": "execute_result"
    }
   ],
   "source": [
    "openomics.config"
   ]
  },
  {
   "cell_type": "code",
   "execution_count": 3,
   "metadata": {},
   "outputs": [
    {
     "name": "stdout",
     "output_type": "stream",
     "text": [
      "file_resources {'rnacentral_rfam_annotations.tsv': <_io.TextIOWrapper name='/home/jonny/.astropy/cache/download/url/7e2a6befe56a4601002b62b8e71c8f0f/contents' encoding='UTF-8'>, 'database_mappings/gencode.tsv': '/home/jonny/.astropy/cache/download/url/fe0e4cf875f938582bdceefd44de5ea6/contents', 'database_mappings/mirbase.tsv': '/home/jonny/.astropy/cache/download/url/696ed0425177384120d130eb225a0f81/contents'}\n"
     ]
    }
   ],
   "source": [
    "rnacentral = RNAcentral(path=\"ftp://ftp.ebi.ac.uk/pub/databases/RNAcentral/current_release/\", verbose=True, npartitions=5)"
   ]
  },
  {
   "cell_type": "code",
   "execution_count": null,
   "metadata": {},
   "outputs": [],
   "source": []
  },
  {
   "cell_type": "markdown",
   "metadata": {},
   "source": [
    "# Load datasets"
   ]
  },
  {
   "cell_type": "code",
   "execution_count": 2,
   "metadata": {
    "scrolled": true
   },
   "outputs": [
    {
     "name": "stderr",
     "output_type": "stream",
     "text": [
      "/opt/anaconda3/lib/python3.7/site-packages/ipykernel_launcher.py:11: DtypeWarning: Columns (10) have mixed types.Specify dtype option on import or set low_memory=False.\n",
      "  # This is added back by InteractiveShellApp.init_path()\n"
     ]
    },
    {
     "name": "stdout",
     "output_type": "stream",
     "text": [
      "EnsemblGenes ['gene_id', 'gene_name', 'transcript_id', 'transcript_name', 'chromosome_name', 'transcript_start', 'transcript_end', 'transcript_length', 'gene_biotype', 'transcript_biotype', 'Rfams', 'go_id']\n"
     ]
    }
   ],
   "source": [
    "gencode = GENCODE(path=\"ftp://ftp.ebi.ac.uk/pub/databases/gencode/Gencode_human/release_32/\",\n",
    "                  file_resources={\"long_noncoding_RNAs.gtf\": \"gencode.v32.long_noncoding_RNAs.gtf.gz\",\n",
    "                                  \"lncRNA_transcripts.fa\": \"gencode.v32.lncRNA_transcripts.fa.gz\",\n",
    "                                  \"transcripts.fa\": \"gencode.v32.transcripts.fa.gz\"},\n",
    "                  remove_version_num=True, replace_U2T=True, npartitions=5)\n",
    "\n",
    "rnacentral = RNAcentral(path=\"ftp://ftp.ebi.ac.uk/pub/databases/RNAcentral/current_release/\", verbose=True, npartitions=5)\n",
    "\n",
    "mirbase = MirBase(path=\"ftp://mirbase.org/pub/mirbase/CURRENT/\", sequence=\"hairpin\", species=\"Homo sapiens\", species_id=9606, replace_U2T=True)\n",
    "\n",
    "ensembl = EnsemblGenes()\n",
    "\n",
    "go = GeneOntology()\n",
    "\n",
    "proteinatlas = ProteinAtlas()\n",
    "\n",
    "gtex = GTEx(path=\"https://storage.googleapis.com/gtex_analysis_v8/rna_seq_data/\")"
   ]
  },
  {
   "cell_type": "markdown",
   "metadata": {},
   "source": [
    "# Import the TCGA cancer data"
   ]
  },
  {
   "cell_type": "code",
   "execution_count": 4,
   "metadata": {},
   "outputs": [],
   "source": [
    "cohort_name = \"GTEx\"\n",
    "\n",
    "gtex_transcripts = gtex.data\n",
    "\n",
    "gtex_transcripts_gene_id = pd.Index(gtex_transcripts[\"gene_id\"].unique())\n",
    "gtex_transcripts_gene_name = pd.Index(gtex_transcripts[\"gene_name\"].unique())"
   ]
  },
  {
   "cell_type": "code",
   "execution_count": 5,
   "metadata": {
    "scrolled": true
   },
   "outputs": [
    {
     "ename": "NameError",
     "evalue": "name 'messengerRNA_id' is not defined",
     "output_type": "error",
     "traceback": [
      "\u001b[0;31m---------------------------------------------------------------------------\u001b[0m",
      "\u001b[0;31mNameError\u001b[0m                                 Traceback (most recent call last)",
      "\u001b[0;32m<ipython-input-5-fcbb09cd43a9>\u001b[0m in \u001b[0;36m<module>\u001b[0;34m\u001b[0m\n\u001b[1;32m      1\u001b[0m \u001b[0;31m# messengerRNA_id = pd.Index(gencode.data[gencode.data[\"gene_type\"] == \"protein_coding\"][\"gene_id\"].unique()) & gtex_transcripts_gene_id\u001b[0m\u001b[0;34m\u001b[0m\u001b[0;34m\u001b[0m\u001b[0;34m\u001b[0m\u001b[0m\n\u001b[1;32m      2\u001b[0m \u001b[0;34m\u001b[0m\u001b[0m\n\u001b[0;32m----> 3\u001b[0;31m messengerRNA = MessengerRNA(data=gtex_transcripts[gtex_transcripts[\"gene_id\"].isin(messengerRNA_id)], \n\u001b[0m\u001b[1;32m      4\u001b[0m                             transpose=True, gene_index=\"gene_name\", usecols=None)\n",
      "\u001b[0;31mNameError\u001b[0m: name 'messengerRNA_id' is not defined"
     ]
    }
   ],
   "source": [
    "# messengerRNA_id = pd.Index(gencode.data[gencode.data[\"gene_type\"] == \"protein_coding\"][\"gene_id\"].unique()) & gtex_transcripts_gene_id\n",
    "\n",
    "messengerRNA = MessengerRNA(data=gtex_transcripts[gtex_transcripts[\"gene_id\"].isin(messengerRNA_id)], \n",
    "                            transpose=True, gene_index=\"gene_name\", usecols=None)"
   ]
  },
  {
   "cell_type": "code",
   "execution_count": null,
   "metadata": {
    "scrolled": true
   },
   "outputs": [],
   "source": [
    "# microRNA_id = pd.Index(ensembl.df[ensembl.df[\"gene_biotype\"] == \"miRNA\"][\"gene_id\"].unique()) & gtex_transcripts_gene_id\n",
    "\n",
    "# microRNA = MicroRNA(cohort_name, data=gtex_transcripts[gtex_transcripts[\"gene_id\"].isin(microRNA_id)], \n",
    "#                     gene_index_by=\"gene_id\", transposed=True, columns=None, )\n",
    "# microRNA.expressions.head()"
   ]
  },
  {
   "cell_type": "code",
   "execution_count": null,
   "metadata": {},
   "outputs": [],
   "source": [
    "lncRNA_id = pd.Index(gencode.data[gencode.data[\"gene_type\"] == \"lncRNA\"][\"gene_id\"].unique()) & gtex_transcripts_gene_id\n",
    "lncRNA = LncRNA(data=gtex_transcripts[gtex_transcripts[\"gene_id\"].isin(lncRNA_id)], \n",
    "                gene_index_by=\"gene_id\", transposed=True, columns=None, )"
   ]
  },
  {
   "cell_type": "code",
   "execution_count": null,
   "metadata": {},
   "outputs": [],
   "source": [
    "protein_expressions = proteinatlas.get_expressions(index=\"protein_name\", type=\"RNA - \").reset_index()\n",
    "protein = Protein(data=protein_expressions,\n",
    "                     gene_index_by=\"protein_name\", transposed=True, columns=None, dropna=False)\n",
    "protein.expressions.head()"
   ]
  },
  {
   "cell_type": "code",
   "execution_count": null,
   "metadata": {},
   "outputs": [],
   "source": [
    "cohort_name = \"GTEx\"\n",
    "gtex_data = MultiOmics(cohort_name)\n",
    "\n",
    "gtex_data.add_omic(protein)\n",
    "\n",
    "gtex_data.add_omic(messengerRNA)\n",
    "\n",
    "# # gtex_data.add_omic(microRNA)\n",
    "gtex_data.add_omic(MicroRNA(cohort_name, \n",
    "                            data=os.path.join(\"/data/datasets/Bioinformatics_ExternalData/tcga-assembler/LUAD/\", \"mirna/\", \"miRNAExp__RPM.txt\"), \n",
    "                            gene_index_by=\"GeneSymbol\", transposed=True,\n",
    "                            columns=\"GeneSymbol|TCGA\"))\n",
    "gtex_data.MicroRNA.expressions.index.name = \"gene_name\"\n",
    "gtex_data.MicroRNA.initialize_annotations(gtex_data.MicroRNA.get_genes_list(), \"gene_name\")\n",
    "\n",
    "gtex_data.add_omic(lncRNA)\n",
    "gtex_data.build_samples()"
   ]
  },
  {
   "cell_type": "markdown",
   "metadata": {},
   "source": [
    "# Import Interaction & Disease association database"
   ]
  },
  {
   "cell_type": "code",
   "execution_count": null,
   "metadata": {},
   "outputs": [],
   "source": [
    "lncbase = LncBase(\"/data/datasets/Bioinformatics_ExternalData/lncBase/\", strip_mirna_name=True, \n",
    "                  filters={\"species\": \"Homo sapiens\"})\n",
    "mirtarbase = MiRTarBase(path=\"/data/datasets/Bioinformatics_ExternalData/miRTarBase/\", strip_mirna_name=True,\n",
    "                        filters={\"Species (Target Gene)\": \"Homo sapiens\"})\n",
    "string = STRING(species_id='9606')\n",
    "biogrid = BioGRID(edge_attr=['Score', 'Throughput', 'Experimental System', 'Experimental System Type'], \n",
    "                  filters={\"Organism Interactor A\": 9606})"
   ]
  },
  {
   "cell_type": "code",
   "execution_count": null,
   "metadata": {},
   "outputs": [],
   "source": [
    "lncRNA_name_to_id = gtex_data.LncRNA.annotations.reset_index().set_index(\"gene_name\")[\"gene_id\"].to_dict()\n",
    "lncrna2target = LncRNA2Target(path=\"/data/datasets/Bioinformatics_ExternalData/lncrna2target/\",\n",
    "                              file_resources={\"lncRNA_target_from_high_throughput_experiments.txt\": \"/data/datasets/Bioinformatics_ExternalData/lncrna2target/lncRNA_target_from_high_throughput_experiments.txt\"}, \n",
    "                              version=\"high_throughput\", relabel_nodes=lncRNA_name_to_id,\n",
    "                              filters={\"species_id\": 9606, \"Species\": \"Homo sapiens\"},)"
   ]
  },
  {
   "cell_type": "code",
   "execution_count": null,
   "metadata": {},
   "outputs": [],
   "source": [
    "npinter = NPInter(filters={\"organism\": \"Homo sapiens\", \n",
    "                           \"level\": \"RNA-Protein\", \n",
    "                           \"ncType\": \"lncRNA\"}, relabel_nodes=lncRNA_name_to_id)"
   ]
  },
  {
   "cell_type": "code",
   "execution_count": null,
   "metadata": {
    "scrolled": true
   },
   "outputs": [],
   "source": [
    "npinter.get_interactions(data=True)"
   ]
  },
  {
   "cell_type": "code",
   "execution_count": null,
   "metadata": {},
   "outputs": [],
   "source": [
    "# Disease association datasets\n",
    "disgenet = DisGeNet(path=\"https://www.disgenet.org/static/disgenet_ap1/files/downloads/\", curated=True)\n",
    "hmdd = HMDD(path=\"http://www.cuilab.cn/static/hmdd3/data/\")\n",
    "lncrnadisease = LncRNADisease(path=\"http://www.cuilab.cn/files/images/ldd/\", species=\"Human\")\n",
    "# malacards = MalaCards()"
   ]
  },
  {
   "cell_type": "markdown",
   "metadata": {},
   "source": [
    "# Annotate Data"
   ]
  },
  {
   "cell_type": "code",
   "execution_count": null,
   "metadata": {
    "scrolled": true
   },
   "outputs": [],
   "source": [
    "# LncRNA\n",
    "gtex_data.LncRNA.annotate_genomics(gencode, index=\"gene_id\", \n",
    "                                   columns=['feature', 'start', 'end', 'strand', 'tag', 'havana_gene'])\n",
    "gtex_data.LncRNA.annotate_genomics(database=ensembl, index='gene_id', \n",
    "                                   columns=['gene_name', 'transcript_id', 'transcript_name', \n",
    "                                         'chromosome_name', 'transcript_start', 'transcript_end', 'transcript_length',\n",
    "                                         'Rfams', 'go_id', 'gene_biotype', 'transcript_biotype'])\n",
    "gtex_data.LncRNA.annotate_genomics(database=rnacentral, index='gene_name',\n",
    "                                   columns=['Rfams', 'go_id', 'gene_name'])\n",
    "gtex_data.LncRNA.annotate_diseases(lncrnadisease, index=\"gene_name\", )\n",
    "gtex_data.LncRNA.annotate_sequences(gencode, index=\"gene_id\", omic=\"LncRNA\", agg_sequences=\"longest\")\n",
    "gtex_data.LncRNA.annotations.info()"
   ]
  },
  {
   "cell_type": "code",
   "execution_count": null,
   "metadata": {
    "scrolled": true
   },
   "outputs": [],
   "source": [
    "# MessengerRNA\n",
    "gtex_data.MessengerRNA.annotate_genomics(database=rnacentral, index=\"gene_name\",\n",
    "                                columns=['gene_name', 'transcript_id', 'RNA type', 'go_id', 'Rfams'])\n",
    "gtex_data.MessengerRNA.annotate_genomics(database=ensembl, index='gene_name',\n",
    "                                columns=['gene_id', 'transcript_id', 'transcript_name', \n",
    "                                         'chromosome_name', 'transcript_start', 'transcript_end', 'transcript_length',\n",
    "                                         'Rfams', 'go_id', 'gene_biotype', 'transcript_biotype'])\n",
    "gtex_data.MessengerRNA.annotate_sequences(gencode, index=\"gene_name\", omic=\"MessengerRNA\", \n",
    "                                          agg_sequences=\"longest\", biotypes=[\"protein_coding\"])\n",
    "gtex_data.MessengerRNA.annotate_diseases(disgenet, index=\"gene_name\", )\n",
    "gtex_data.MessengerRNA.annotations.info()"
   ]
  },
  {
   "cell_type": "code",
   "execution_count": null,
   "metadata": {},
   "outputs": [],
   "source": [
    "# MicroRNA\n",
    "gtex_data.MicroRNA.annotate_genomics(\n",
    "    database=mirbase, index=\"gene_name\", \n",
    "    columns=['mirbase id', 'RNAcentral id', 'database'],)\n",
    "gtex_data.MicroRNA.annotate_genomics(\n",
    "    database=rnacentral, index=\"RNAcentral id\",\n",
    "    columns=['transcript_id', 'RNA type', 'go_id', 'Rfams']\n",
    ")\n",
    "gtex_data.MicroRNA.annotate_genomics(\n",
    "    database=ensembl, index='gene_name',\n",
    "    columns=['gene_name', 'transcript_id', 'transcript_name', \n",
    "             'chromosome_name', 'transcript_start', 'transcript_end', 'transcript_length',\n",
    "             'Rfams', 'go_id', 'gene_biotype', 'transcript_biotype'])\n",
    "gtex_data.MicroRNA.annotate_diseases(hmdd, index=\"gene_name\", )\n",
    "gtex_data.MicroRNA.annotate_sequences(mirbase, index=\"gene_name\", omic=\"MicroRNA\", agg_sequences=\"all\")\n",
    "gtex_data.MicroRNA.annotations.info()"
   ]
  },
  {
   "cell_type": "code",
   "execution_count": null,
   "metadata": {},
   "outputs": [],
   "source": [
    "# # Protein\n",
    "gtex_data.Protein.annotate_sequences(string, index=\"protein_name\")\n",
    "gtex_data.Protein.annotate_genomics(string, index=\"protein_name\", \n",
    "                                    columns=['protein_size', 'protein_id', 'annotation'])\n",
    "gtex_data.Protein.annotations[\"gene_name\"] = gtex_data.Protein.annotations.index.get_level_values(\"protein_name\")\n",
    "gtex_data.Protein.annotate_genomics(database=go, index=\"gene_name\", columns=['go_id'])\n",
    "gtex_data.Protein.annotate_genomics(database=proteinatlas, index=\"protein_name\", \n",
    "                                    columns=['Protein class', 'Uniprot', 'Chromosome', 'Position', 'Antibody',\n",
    "                                             'Subcellular location'])\n",
    "gtex_data.Protein.annotate_diseases(disgenet, index=\"gene_name\", )\n",
    "gtex_data.Protein.annotations.info()"
   ]
  },
  {
   "cell_type": "code",
   "execution_count": null,
   "metadata": {},
   "outputs": [],
   "source": [
    "# luad_data.LncRNA.annotate_diseases(malacards, index=\"gene_name\", )\n",
    "# luad_data.MicroRNA.annotate_diseases(malacards, index=\"gene_name\", )\n",
    "# luad_data.MessengerRNA.annotate_diseases(malacards, index=\"gene_name\", )\n",
    "# luad_data.Protein.annotate_diseases(malacards, index=\"gene_name\", )"
   ]
  },
  {
   "cell_type": "code",
   "execution_count": null,
   "metadata": {},
   "outputs": [],
   "source": [
    "# luad_data.MessengerRNA.annotate_expressions(database=gtex, index=\"gene_name\")\n",
    "# luad_data.LncRNA.annotate_expressions(database=gtex, index=\"gene_id\")\n",
    "# luad_data.MicroRNA.annotate_expressions(database=gtex, index=\"gene_name\")\n",
    "# luad_data.Protein.annotate_expressions(database=gtex, index=\"gene_name\")"
   ]
  },
  {
   "cell_type": "code",
   "execution_count": null,
   "metadata": {
    "scrolled": true
   },
   "outputs": [],
   "source": [
    "LNC = gtex_data.LncRNA.get_annotations()\n",
    "MIR = gtex_data.MicroRNA.get_annotations()\n",
    "GE = gtex_data.MessengerRNA.get_annotations()\n",
    "PRO = gtex_data.Protein.get_annotations()\n",
    "print(GE.info())\n",
    "print(MIR.info())\n",
    "print(LNC.info())\n",
    "print(PRO.info())"
   ]
  },
  {
   "cell_type": "markdown",
   "metadata": {},
   "source": [
    "# Make an ancestor array of GO terms"
   ]
  },
  {
   "cell_type": "code",
   "execution_count": null,
   "metadata": {},
   "outputs": [],
   "source": [
    "filted_go_annotations = go.filter_annotation(gtex_data.LncRNA.annotations[\"go_id\"].str.split(\"|\"))\n",
    "gtex_data.LncRNA.annotations[\"go_id\"] = go.add_predecessor_terms(filted_go_annotations, return_str=True)\n",
    "\n",
    "filted_go_annotations = go.filter_annotation(gtex_data.MicroRNA.annotations[\"go_id\"].str.split(\"|\"))\n",
    "gtex_data.MicroRNA.annotations[\"go_id\"] = go.add_predecessor_terms(filted_go_annotations, return_str=True)\n",
    "\n",
    "filted_go_annotations = go.filter_annotation(gtex_data.MessengerRNA.annotations[\"go_id\"].str.split(\"|\"))\n",
    "gtex_data.MessengerRNA.annotations[\"go_id\"] = go.add_predecessor_terms(filted_go_annotations, return_str=True)\n",
    "\n",
    "filted_go_annotations = go.filter_annotation(gtex_data.Protein.annotations[\"go_id\"].str.split(\"|\"))\n",
    "gtex_data.Protein.annotations[\"go_id\"] = go.add_predecessor_terms(filted_go_annotations, return_str=True)"
   ]
  },
  {
   "cell_type": "code",
   "execution_count": null,
   "metadata": {},
   "outputs": [],
   "source": [
    "assert not gtex_data.LncRNA.annotations[\"sequence\"].str.contains(\"U\").any()\n",
    "assert not gtex_data.MicroRNA.annotations[\"sequence\"].str.contains(\"U\").any()\n",
    "assert not gtex_data.MessengerRNA.annotations[\"sequence\"].str.contains(\"U\").any()"
   ]
  },
  {
   "cell_type": "code",
   "execution_count": null,
   "metadata": {},
   "outputs": [],
   "source": [
    "# with open('data/gtex_rna_ppi_data_go_parents.pickle', 'wb') as file:\n",
    "# #     luad_data = pickle.load(file)\n",
    "#     pickle.dump(gtex_data, file)"
   ]
  },
  {
   "cell_type": "markdown",
   "metadata": {},
   "source": [
    "# Build Heterogeneous Network"
   ]
  },
  {
   "cell_type": "code",
   "execution_count": null,
   "metadata": {},
   "outputs": [],
   "source": [
    "import pickle\n",
    "with open('data/gtex_rna_ppi_data_go_parents.pickle', 'rb') as file:\n",
    "    gtex_data = pickle.load(file)"
   ]
  },
  {
   "cell_type": "code",
   "execution_count": null,
   "metadata": {},
   "outputs": [],
   "source": [
    "gtex_data.Protein.annotations[\"gene_biotype\"] = \"protein\"\n",
    "gtex_data.Protein.annotations[\"Rfams\"] = gtex_data.Protein.annotations[\"Protein class\"].str.replace(\", \", \"|\")"
   ]
  },
  {
   "cell_type": "code",
   "execution_count": null,
   "metadata": {},
   "outputs": [],
   "source": [
    "from moge.network.multiplex import MultiplexAttributedNetwork\n",
    "from networkx import Graph, DiGraph\n",
    "\n",
    "network = MultiplexAttributedNetwork(multiomics=gtex_data,\n",
    "                                     modalities=[\"MicroRNA\", \"MessengerRNA\", \"LncRNA\", \"Protein\"], \n",
    "                                     layers={\n",
    "                                         (MicroRNA.name(), MessengerRNA.name()): DiGraph,\n",
    "                                         (MicroRNA.name(), LncRNA.name()): DiGraph,\n",
    "                                         (LncRNA.name(), MessengerRNA.name()): DiGraph,\n",
    "                                         (LncRNA.name(), Protein.name()): DiGraph,\n",
    "                                         (Protein.name(), Protein.name()): Graph,\n",
    "                                     })\n",
    "network.all_annotations.columns"
   ]
  },
  {
   "cell_type": "code",
   "execution_count": null,
   "metadata": {},
   "outputs": [],
   "source": [
    "edges[('hsa-mir-20a', 'CRIM1')]"
   ]
  },
  {
   "cell_type": "code",
   "execution_count": null,
   "metadata": {},
   "outputs": [],
   "source": [
    "network.add_edges(mirtarbase.get_interactions(nodelist=network.node_list, data=True), \n",
    "                  database=mirtarbase.name(), directed=True,\n",
    "                  layer=(MicroRNA.name(), MessengerRNA.name())\n",
    "                 )\n",
    "network.add_edges(lncbase.get_interactions(nodelist=network.node_list, data=True), \n",
    "                  database=lncbase.name(), directed=True,\n",
    "                  layer=(MicroRNA.name(), LncRNA.name())\n",
    "                 )\n",
    "network.add_edges(lncrna2target.get_interactions(nodelist=network.node_list, data=True), \n",
    "                  database=lncrna2target.name(), directed=True,\n",
    "                  layer=(LncRNA.name(), MessengerRNA.name())\n",
    "                 )\n",
    "network.add_edges(npinter.get_interactions(network.node_list, data=True), \n",
    "                  database=string.name(), directed=True,\n",
    "                  layer=(LncRNA.name(), Protein.name())\n",
    "                 )\n",
    "network.add_edges(string.get_interactions(network.node_list, data=True, inclusive=True), \n",
    "                  database=string.name(), directed=False,\n",
    "                  layer=(Protein.name(), Protein.name())\n",
    "                 )"
   ]
  },
  {
   "cell_type": "code",
   "execution_count": null,
   "metadata": {},
   "outputs": [],
   "source": [
    "assert network.networks[('MicroRNA', 'LncRNA')].number_of_edges() > 0"
   ]
  },
  {
   "cell_type": "code",
   "execution_count": null,
   "metadata": {},
   "outputs": [],
   "source": [
    "network.split_stratified(stratify_label=\"go_id\", stratify_omic=True, n_splits=10, \n",
    "                         dropna=False, verbose=True)"
   ]
  },
  {
   "cell_type": "code",
   "execution_count": null,
   "metadata": {},
   "outputs": [],
   "source": [
    "with open('data/gtex_rna_ppi_multiplex_network.pickle', \"wb\") as file:\n",
    "#     network = pickle.load(file)\n",
    "    pickle.dump(network, file)"
   ]
  },
  {
   "cell_type": "markdown",
   "metadata": {},
   "source": [
    "#  Analyze Network"
   ]
  },
  {
   "cell_type": "code",
   "execution_count": null,
   "metadata": {},
   "outputs": [],
   "source": [
    "with open('data/gtex_rna_ppi_multiplex_network.pickle', \"rb\") as file:\n",
    "    network = pickle.load(file)"
   ]
  },
  {
   "cell_type": "code",
   "execution_count": null,
   "metadata": {},
   "outputs": [],
   "source": [
    "node_clustering = pd.DataFrame(index=network.node_list, columns=columns)\n",
    "for layer in network.layers:\n",
    "    clustering_scores = nx.clustering(network.networks[layer], nodes=network.node_list)\n",
    "    node_clustering[\"-\".join(layer)] = node_clustering.index.map(lambda x: clustering_scores.get(x))\n",
    "    "
   ]
  },
  {
   "cell_type": "code",
   "execution_count": null,
   "metadata": {},
   "outputs": [],
   "source": [
    "for layer in network.layers:\n",
    "    print(f\"{layer} {nx.transitivity(network.networks[layer])}\")"
   ]
  },
  {
   "cell_type": "code",
   "execution_count": null,
   "metadata": {},
   "outputs": [],
   "source": [
    "columns = [\"-\".join(col) for col in network.layers]\n",
    "node_degrees = pd.DataFrame(index=network.node_list, columns=columns)\n",
    "\n",
    "for node in network.node_list:\n",
    "    overlap_edges = 0\n",
    "    union_edges = 0\n",
    "    for layer_1 in network.layers.keys():\n",
    "        node_degrees.loc[node, \"-\".join(layer_1)] = network.networks[layer_1].degree(node)\n",
    "        for layer_2 in network.layers.keys():\n",
    "            if layer_1 == layer_2: continue\n",
    "            overlap_edges += len(set(network.networks[layer_1].edges(node)) & set(network.networks[layer_2].edges(node)))\n",
    "            union_edges += len(set(network.networks[layer_1].edges(node)) | set(network.networks[layer_2].edges(node)))\n",
    "    if overlap_edges > 0:\n",
    "        print(node+ \" overlap_edges\", overlap_edges)\n",
    "node_degrees[\"Combined\"] = node_degrees.sum(1)\n",
    "node_degrees = node_degrees.sort_values(by=\"Combined\", ascending=False)"
   ]
  },
  {
   "cell_type": "code",
   "execution_count": null,
   "metadata": {},
   "outputs": [],
   "source": [
    "go.Figure(data=go.Heatmap(z=node_degrees.applymap(lambda x: np.log10(x+1)).T, \n",
    "                          x=node_degrees.index[:20000], y=node_degrees.columns, colorscale=\"Greys\"))"
   ]
  },
  {
   "cell_type": "markdown",
   "metadata": {},
   "source": [
    "# Visualize Network"
   ]
  },
  {
   "cell_type": "code",
   "execution_count": null,
   "metadata": {},
   "outputs": [],
   "source": [
    "nodelist = network.annotations[network.annotations[\"omic\"].str.contains(\"MicroRNA|LncRNA\")].index\n",
    "nodelist = [k for k, v in network.G.subgraph(nodelist).degree() if v > 0 and k in nodelist]\n",
    "len(nodelist)"
   ]
  },
  {
   "cell_type": "code",
   "execution_count": null,
   "metadata": {},
   "outputs": [],
   "source": [
    "graph_viz(network.G, nodelist=nodelist, \n",
    "#           node_symbol=network.annotations.loc[nodelist, \"disease_associations\"], \n",
    "          node_color=network.annotations.loc[nodelist, \"omic\"], \n",
    "          edge_label=\"database\",\n",
    "          iterations=100,\n",
    "          max_edges=3000)"
   ]
  },
  {
   "cell_type": "markdown",
   "metadata": {},
   "source": [
    "# Add Attribute Affinity Positive Edges"
   ]
  },
  {
   "cell_type": "code",
   "execution_count": null,
   "metadata": {
    "scrolled": true
   },
   "outputs": [],
   "source": [
    "affinities_GE = network.add_edges_from_nodes_similarity(modality=\"GE\", node_list=network.nodes[\"GE\"], \n",
    "    similarity_threshold=0.80, dissimilarity_threshold=0.01,\n",
    "    negative_sampling_ratio=5.0, nanmean=True,\n",
    "    features=[\"GO Terms\", \"Disease association\"],\n",
    "    weights=[1, 1],\n",
    "    compute_correlation=False)"
   ]
  },
  {
   "cell_type": "code",
   "execution_count": null,
   "metadata": {
    "scrolled": true
   },
   "outputs": [],
   "source": [
    "affinities_GE = network.add_edges_from_nodes_similarity(modality=\"GE\", node_list=network.nodes[\"GE\"], \n",
    "    similarity_threshold=0.85, dissimilarity_threshold=0.01,\n",
    "    negative_sampling_ratio=5.0, nanmean=False,\n",
    "    features=[\"locus_type\", \"gene_family_id\", \"location\"], \n",
    "    weights=[0.5, 1, 0.5, 1],\n",
    "    compute_correlation=True, tissue_expression=GE_tissue_exp)"
   ]
  },
  {
   "cell_type": "code",
   "execution_count": null,
   "metadata": {
    "scrolled": true
   },
   "outputs": [],
   "source": [
    "affinities_MIR = network.add_edges_from_nodes_similarity(modality=\"MIR\", node_list=network.nodes[\"MIR\"], \n",
    "    similarity_threshold=0.70, dissimilarity_threshold=0.01,\n",
    "    negative_sampling_ratio=5.0, nanmean=True,\n",
    "    features=[\"GO Terms\", \"Disease association\"], \n",
    "    compute_correlation=False)"
   ]
  },
  {
   "cell_type": "code",
   "execution_count": null,
   "metadata": {
    "scrolled": true
   },
   "outputs": [],
   "source": [
    "affinities_MIR = network.add_edges_from_nodes_similarity(modality=\"MIR\", node_list=network.nodes[\"MIR\"], \n",
    "    similarity_threshold=0.70, dissimilarity_threshold=0.01,\n",
    "    negative_sampling_ratio=5.0, nanmean=True,\n",
    "    features=[\"Family\", \"Rfams\"], \n",
    "    compute_correlation=True, tissue_expression=MIR_tissue_exp)"
   ]
  },
  {
   "cell_type": "code",
   "execution_count": null,
   "metadata": {
    "scrolled": true
   },
   "outputs": [],
   "source": [
    "affinities_LNC = network.add_edges_from_nodes_similarity(modality=\"LNC\", node_list=network.nodes[\"LNC\"], \n",
    "    similarity_threshold=0.90, dissimilarity_threshold=0.1,\n",
    "    negative_sampling_ratio=5.0, \n",
    "    nanmean=False,\n",
    "    features=[\"locus_type\", \"Transcript type\", \"tag\", \"Strand\", \"Chromosome\"],\n",
    "    weights=[1, 1, 0.5, 0.5, 1, 1],\n",
    "    compute_correlation=True, tissue_expression=LNC_tissue_exp)"
   ]
  },
  {
   "cell_type": "code",
   "execution_count": null,
   "metadata": {},
   "outputs": [],
   "source": [
    "affinities_LNC = network.add_edges_from_nodes_similarity(modality=\"LNC\", node_list=network.nodes[\"LNC\"], \n",
    "    similarity_threshold=0.70, dissimilarity_threshold=0.01,\n",
    "    negative_sampling_ratio=5.0, nanmean=True,\n",
    "    features=[\"GO Terms\", \"Family\", \"Disease association\"], \n",
    "    compute_correlation=False)"
   ]
  },
  {
   "cell_type": "code",
   "execution_count": null,
   "metadata": {},
   "outputs": [],
   "source": [
    "matrix_heatmap(network.get_adjacency_matrix(edge_types=[\"u\"], node_list=network.nodes[\"GE\"]).todense(),\n",
    "              figsize=(7,7))"
   ]
  },
  {
   "cell_type": "code",
   "execution_count": null,
   "metadata": {},
   "outputs": [],
   "source": [
    "matrix_heatmap(network.get_adjacency_matrix(edge_types=[\"u\"], node_list=network.nodes[\"MIR\"]).todense(),\n",
    "              figsize=(5,5))"
   ]
  },
  {
   "cell_type": "code",
   "execution_count": null,
   "metadata": {},
   "outputs": [],
   "source": [
    "matrix_heatmap(network.get_adjacency_matrix(edge_types=[\"u\"], node_list=network.nodes[\"LNC\"]).todense(),\n",
    "              figsize=(7,7))"
   ]
  },
  {
   "cell_type": "code",
   "execution_count": null,
   "metadata": {},
   "outputs": [],
   "source": [
    "# # IMPORT Affinity Edgelist\n",
    "# network.import_edgelist_file(\n",
    "# #     file=\"moge/data/LMN_future_recall/TRAIN/Interactions_Affinity/lmn_n70_m70_l70-70_TissueExp_GO_Rfams_Disease_Family_GO_affinity.edgelist\", \n",
    "#     file=\"moge/data/LMN_future_recall/TRAIN/Interactions_Only/GE/lmn_train.BioGRID.interactions.edgelist\", \n",
    "#     is_directed=True)\n",
    "\n",
    "# network.import_edgelist_file(\n",
    "#     file=\"moge/data/LMN_future_recall/TRAIN/Interactions_Only/MIR/lmn_train.miRTarBase.interactions.edgelist\", \n",
    "#     is_directed=True)\n",
    "\n",
    "# network.import_edgelist_file(\n",
    "#     file=\"moge/data/LMN_future_recall/TRAIN/Interactions_Only/LNC/lmn_train.lncBase.interactions.edgelist\", \n",
    "#     is_directed=True)\n",
    "\n",
    "# network.import_edgelist_file(\n",
    "#     file=\"moge/data/LMN_future_recall/TRAIN/Interactions_Only/LNC/lmn_train.lncrna2target.interactions.edgelist\", \n",
    "#     is_directed=True)"
   ]
  },
  {
   "cell_type": "code",
   "execution_count": null,
   "metadata": {},
   "outputs": [],
   "source": [
    "# WRITE Affinity Edgelist\n",
    "# nx.write_edgelist(network.get_subgraph([\"MIR\", \"GE\", \"LNC\"], edge_type=\"u\"), \n",
    "#                   \"moge/data/LMN_future_recall/TRAIN/Interactions_Affinity/lmn_n70_m70_l70-70_TissueExp_GO_Rfams_Disease_Family_GO_affinity.edgelist\", \n",
    "#                   data=True)"
   ]
  },
  {
   "cell_type": "markdown",
   "metadata": {},
   "source": [
    "# Add Attribute Affinity NEGATIVE Edges between cross-modals"
   ]
  },
  {
   "cell_type": "code",
   "execution_count": null,
   "metadata": {},
   "outputs": [],
   "source": [
    "u_n_size = 10000\n",
    "network.add_sampled_negative_edges(u_n_size, modalities=[\"GE\", \"MIR\"])\n",
    "network.add_sampled_negative_edges(u_n_size*2, modalities=[\"GE\", \"LNC\"])\n",
    "network.add_sampled_negative_edges(u_n_size, modalities=[\"LNC\", \"MIR\"])"
   ]
  },
  {
   "cell_type": "markdown",
   "metadata": {},
   "source": [
    "# miRTarBase"
   ]
  },
  {
   "cell_type": "code",
   "execution_count": null,
   "metadata": {},
   "outputs": [],
   "source": [
    "mirtarbase_new = luad_data.MIR.get_miRTarBase_miRNA_target_interaction(use_latest=True, data=False, rename_dict=case_relabel)\n",
    "mirtarbase_old = luad_data.MIR.get_miRTarBase_miRNA_target_interaction(use_latest=False, data=False, rename_dict=case_relabel)\n",
    "mirtarbase_diff = list(set(mirtarbase_new) - set(mirtarbase_old))\n",
    "len(mirtarbase_diff)"
   ]
  },
  {
   "cell_type": "code",
   "execution_count": null,
   "metadata": {},
   "outputs": [],
   "source": [
    "# Adds miRNA-target interaction network\n",
    "network.add_directed_edges_from_edgelist(edgelist=luad_data.MIR.get_miRTarBase_miRNA_target_interaction(use_latest=False),\n",
    "#                                                                                                        rename_dict=case_relabel), \n",
    "                                        modalities=[\"MIR\", \"GE\"], correlation_weights=False, threshold=0.20,\n",
    "                                        database=\"miRTarBase\")"
   ]
  },
  {
   "cell_type": "markdown",
   "metadata": {},
   "source": [
    "# StarBase mRNA-RNA"
   ]
  },
  {
   "cell_type": "code",
   "execution_count": null,
   "metadata": {},
   "outputs": [],
   "source": [
    "starbase_new = luad_data.GE.get_starBase_RNA_RNA_interactions(min_expNum=1, data=False)\n",
    "starbase_old = luad_data.GE.get_starBase_RNA_RNA_interactions(min_expNum=2, data=False)\n",
    "starbase_diff = list(set(starbase_new) - set(starbase_old))\n",
    "len(starbase_diff)"
   ]
  },
  {
   "cell_type": "code",
   "execution_count": null,
   "metadata": {},
   "outputs": [],
   "source": [
    "# Adds Gene Regulatory Network edges\n",
    "network.add_directed_edges_from_edgelist(edgelist=luad_data.LNC.get_starBase_lncRNA_RNA_interactions(),\n",
    "                                        modalities=[\"LNC\", \"GE\"], correlation_weights=False, threshold=0.2,\n",
    "                                        database=\"starBase\")"
   ]
  },
  {
   "cell_type": "markdown",
   "metadata": {},
   "source": [
    "# BioGRID"
   ]
  },
  {
   "cell_type": "code",
   "execution_count": null,
   "metadata": {},
   "outputs": [],
   "source": [
    "biogrid_new = luad_data.GE.get_BioGRID_GRN_edgelist(data=False, rename_dict=case_relabel,\n",
    "                biogrid_interactions_file_path='/data/datasets/Bioinformatics_ExternalData/BioGRID/BIOGRID-ALL-3.5.169.tab2.txt')\n",
    "biogrid_old = luad_data.GE.get_BioGRID_GRN_edgelist(data=False, rename_dict=case_relabel,\n",
    "                biogrid_interactions_file_path='/data/datasets/Bioinformatics_ExternalData/BioGRID/BIOGRID-ALL-3.4.162.tab2.txt')\n",
    "biogrid_diff = list(set(biogrid_new) - set(biogrid_old))\n",
    "len(biogrid_diff)"
   ]
  },
  {
   "cell_type": "code",
   "execution_count": null,
   "metadata": {},
   "outputs": [],
   "source": [
    "# Adds Gene Regulatory Network edges\n",
    "network.add_directed_edges_from_edgelist(edgelist=luad_data.GE.get_BioGRID_GRN_edgelist(biogrid_interactions_file_path='/data/datasets/Bioinformatics_ExternalData/BioGRID/BIOGRID-ALL-3.4.162.tab2.txt'),\n",
    "#                                                                                        rename_dict=case_relabel),\n",
    "                                        modalities=[\"GE\", \"GE\"], correlation_weights=False, threshold=0.2,\n",
    "                                        database=\"BioGRID\")"
   ]
  },
  {
   "cell_type": "markdown",
   "metadata": {},
   "source": [
    "# NPInter"
   ]
  },
  {
   "cell_type": "code",
   "execution_count": null,
   "metadata": {},
   "outputs": [],
   "source": [
    "from moge.network.heterogeneous_network import get_rename_dict\n",
    "noncode_rename_dict = pd.Series(luad_data.LNC.noncode_func_df[\"Gene Name\"].values,\n",
    "     index=luad_data.LNC.noncode_func_df[\"NONCODE Gene ID\"].str.split(\".\", expand=True)[0]).to_dict()\n",
    "noncode_rename_dict = {k: noncode_rename_dict[k] for k in noncode_rename_dict if type(noncode_rename_dict[k])!=float}\n",
    "\n",
    "lncbase_rename_dict = get_rename_dict(luad_data.LNC.get_genes_info(), \"Gene ID\")\n",
    "lncbase_rename_dict.update(noncode_rename_dict)"
   ]
  },
  {
   "cell_type": "code",
   "execution_count": null,
   "metadata": {},
   "outputs": [],
   "source": [
    "# lncbase_rename_dict.update(case_relabel)"
   ]
  },
  {
   "cell_type": "code",
   "execution_count": null,
   "metadata": {},
   "outputs": [],
   "source": [
    "npinter_new = luad_data.LNC.get_NPInter_ncRNA_RNA_regulatory_interaction_edgelist(use_latest=True, data=False,\n",
    "                                                                                 rename_dict=lncbase_rename_dict)\n",
    "npinter_old = luad_data.LNC.get_NPInter_ncRNA_RNA_regulatory_interaction_edgelist(use_latest=False, data=False,\n",
    "                                                                                 rename_dict=lncbase_rename_dict)\n",
    "npinter_diff = list(set(npinter_new) - set(npinter_old))\n",
    "len(npinter_diff)"
   ]
  },
  {
   "cell_type": "code",
   "execution_count": null,
   "metadata": {},
   "outputs": [],
   "source": [
    "network.add_directed_edges_from_edgelist(edgelist=luad_data.LNC.get_NPInter_ncRNA_RNA_regulatory_interaction_edgelist(use_latest=False), \n",
    "#                                                                                                                       rename_dict=lncbase_rename_dict),\n",
    "                                         modalities=[\"LNC\", \"GE\"], correlation_weights=False, threshold=0.20,\n",
    "                                        database=\"NPInter\")"
   ]
  },
  {
   "cell_type": "markdown",
   "metadata": {},
   "source": [
    "# lncBase"
   ]
  },
  {
   "cell_type": "code",
   "execution_count": null,
   "metadata": {},
   "outputs": [],
   "source": [
    "lncbase_new = luad_data.LNC.get_lncBase_miRNA_lncRNA_predicted_interactions_edgelist(rename_dict=lncbase_rename_dict,\n",
    "                                                                                     data=False)\n",
    "lncbase_old = luad_data.LNC.get_lncBase_miRNA_lncRNA_interactions_edgelist(rename_dict=lncbase_rename_dict, \n",
    "                                                                           data=False)\n",
    "lncbase_diff = list(set(lncbase_new) - set(lncbase_old))\n",
    "print(len(lncbase_diff))"
   ]
  },
  {
   "cell_type": "code",
   "execution_count": null,
   "metadata": {},
   "outputs": [],
   "source": [
    "# Adds miRNA-lncRNA interaction network\n",
    "# network.add_directed_edges_from_edgelist(edgelist=luad_data.LNC.get_starBase_lncRNA_miRNA_interactions_edgelist(),\n",
    "#                                         )\n",
    "# network.add_directed_edges_from_edgelist(edgelist=luad_data.LNC.get_lncRNome_miRNA_binding_sites_edgelist(),\n",
    "#                                          modalities=[\"LNC\", \"MIR\"], correlation_weights=False, threshold=0.20,\n",
    "#                                         database=\"lncRNome\")\n",
    "\n",
    "network.add_directed_edges_from_edgelist(edgelist=luad_data.LNC.get_lncBase_miRNA_lncRNA_interactions_edgelist(rename_dict=lncbase_rename_dict),\n",
    "                                         modalities=[\"MIR\", \"LNC\"], correlation_weights=False, threshold=0.20,\n",
    "                                        database=\"lncBase\")\n",
    "\n",
    "\n",
    "# network.add_directed_edges_from_edgelist(edgelist=luad_data.LNC.get_LncReg_lncRNA_RNA_regulatory_interactions(),\n",
    "#                                          modalities=[\"LNC\", \"GE\"], correlation_weights=False, threshold=0.20,\n",
    "#                                         database=\"LncReg\")"
   ]
  },
  {
   "cell_type": "markdown",
   "metadata": {},
   "source": [
    "# lncrna2target"
   ]
  },
  {
   "cell_type": "code",
   "execution_count": null,
   "metadata": {},
   "outputs": [],
   "source": [
    "lnc2tar_low = luad_data.LNC.get_lncrna2target_low_throughput_interactions(data=False, rename_dict=lncbase_rename_dict)\n",
    "lnc2tar_high = luad_data.LNC.get_lncrna2target_high_throughput_interactions(data=False, rename_dict=lncbase_rename_dict)\n",
    "lnc2tar_diff = list(set(lnc2tar_high) - set(lnc2tar_low))\n",
    "len(lnc2tar_diff)"
   ]
  },
  {
   "cell_type": "code",
   "execution_count": null,
   "metadata": {},
   "outputs": [],
   "source": [
    "network.add_directed_edges_from_edgelist(edgelist=luad_data.LNC.get_lncrna2target_high_throughput_interactions(rename_dict=lncbase_rename_dict),\n",
    "                                         modalities=[\"LNC\", \"GE\"], correlation_weights=False, threshold=0.20,\n",
    "                                        database=\"lncrna2target\")\n",
    "\n",
    "# network.add_directed_edges_from_edgelist(edgelist=luad_data.LNC.get_lncrna2target_low_throughput_interactions(rename_dict=lncbase_rename_dict),\n",
    "#                                          modalities=[\"LNC\", \"GE\"], correlation_weights=False, threshold=0.20,\n",
    "#                                         database=\"lncrna2target\")\n",
    "\n",
    "# network.add_directed_edges_from_edgelist(edgelist=luad_data.LNC.get_lncRInter_interactions(),\n",
    "#                                          modalities=[\"LNC\", \"GE\"], correlation_weights=False, threshold=0.20,\n",
    "#                                         database=\"lncRInter\")"
   ]
  },
  {
   "cell_type": "code",
   "execution_count": null,
   "metadata": {},
   "outputs": [],
   "source": [
    "npinter_val = {(u,v) for u,v,d in network.G.edges(data=True) if \"database\" in d and d[\"database\"]==\"NPInter\"}\n",
    "len(npinter_val)\n",
    "npinter_train = {(u,v) for u,v,d in network.G.edges(data=True) if \"database\" in d and d[\"database\"]==\"NPInter\"}\n",
    "len(npinter_train)\n",
    "len(lncbase_train & l2t_val)"
   ]
  },
  {
   "cell_type": "markdown",
   "metadata": {},
   "source": [
    "# Filter the node_list"
   ]
  },
  {
   "cell_type": "code",
   "execution_count": null,
   "metadata": {},
   "outputs": [],
   "source": [
    "node_pairs = {(node1, node2) for node1 in network.G.nodes for node2 in network.G.nodes if\\\n",
    "              node1!=node2 and node2.lower()==node1.lower()}\n",
    "len(node_pairs)"
   ]
  },
  {
   "cell_type": "code",
   "execution_count": null,
   "metadata": {},
   "outputs": [],
   "source": [
    "case_relabel = {}\n",
    "for u,v in node_pairs:\n",
    "    if v in network.genes_info.index:\n",
    "        case_relabel[u] = v\n",
    "    elif u in network.genes_info.index:\n",
    "        case_relabel[v] = u\n",
    "len(case_relabel)"
   ]
  },
  {
   "cell_type": "code",
   "execution_count": null,
   "metadata": {},
   "outputs": [],
   "source": [
    "len([node for node in network.G.nodes if node not in network.genes_info.index])"
   ]
  },
  {
   "cell_type": "code",
   "execution_count": null,
   "metadata": {},
   "outputs": [],
   "source": [
    "isolates = list(nx.isolates(network.G))\n",
    "len(isolates)"
   ]
  },
  {
   "cell_type": "code",
   "execution_count": null,
   "metadata": {},
   "outputs": [],
   "source": [
    "network.G.remove_nodes_from(isolates)"
   ]
  },
  {
   "cell_type": "code",
   "execution_count": null,
   "metadata": {},
   "outputs": [],
   "source": [
    "network.nodes[\"MessengerRNA\"] = [node for node in network.nodes[\"MessengerRNA\"] if node in network.G.nodes()]\n",
    "network.nodes[\"LncRNA\"] = [node for node in network.nodes[\"LncRNA\"] if node in network.G.nodes()]\n",
    "network.nodes[\"MicroRNA\"] = [node for node in network.nodes[\"MicroRNA\"] if node in network.G.nodes()]"
   ]
  },
  {
   "cell_type": "code",
   "execution_count": null,
   "metadata": {},
   "outputs": [],
   "source": [
    "network.G.number_of_nodes(), network.G.number_of_edges()"
   ]
  },
  {
   "cell_type": "code",
   "execution_count": null,
   "metadata": {},
   "outputs": [],
   "source": [
    "len(network.node_list)"
   ]
  },
  {
   "cell_type": "code",
   "execution_count": null,
   "metadata": {},
   "outputs": [],
   "source": [
    "# WRITE/READ FULL network\n",
    "import pickle\n",
    "with open('moge/data/LMN_future_recall/TRAIN/Interactions_Only/LMN_lncbase_mirtarbase_biogrid_lncrna2target_openomics.train.pickle', \n",
    "          'wb') as file:\n",
    "    pickle.dump(network, file)\n",
    "#     network = pickle.load(file)"
   ]
  },
  {
   "cell_type": "markdown",
   "metadata": {},
   "source": [
    "# Train test split"
   ]
  },
  {
   "cell_type": "code",
   "execution_count": null,
   "metadata": {},
   "outputs": [],
   "source": [
    "network.split_train_test_nodes(node_list=network.node_list, verbose=True,)"
   ]
  },
  {
   "cell_type": "code",
   "execution_count": null,
   "metadata": {},
   "outputs": [],
   "source": [
    "train_generator = network.get_train_generator()"
   ]
  },
  {
   "cell_type": "code",
   "execution_count": null,
   "metadata": {},
   "outputs": [],
   "source": [
    "test_generator = network.get_test_generator()"
   ]
  },
  {
   "cell_type": "markdown",
   "metadata": {},
   "source": [
    "## Network Info & Visualizations"
   ]
  },
  {
   "cell_type": "code",
   "execution_count": null,
   "metadata": {},
   "outputs": [],
   "source": [
    "print(len(network.G.nodes()))\n",
    "print(len(network.G.edges()))"
   ]
  },
  {
   "cell_type": "code",
   "execution_count": null,
   "metadata": {},
   "outputs": [],
   "source": [
    "csr_un = network.get_adjacency_matrix(edge_types=[\"u_n\"], node_list=network.node_list)\n",
    "csr_u = network.get_adjacency_matrix(edge_types=[\"u\"], node_list=network.node_list)\n",
    "csr_d = network.get_adjacency_matrix(edge_types=[\"d\"], node_list=network.node_list)"
   ]
  },
  {
   "cell_type": "code",
   "execution_count": null,
   "metadata": {},
   "outputs": [],
   "source": [
    "matrix_heatmap(csr_un.toarray())"
   ]
  },
  {
   "cell_type": "code",
   "execution_count": null,
   "metadata": {},
   "outputs": [],
   "source": [
    "matrix_heatmap(csr_u.toarray())"
   ]
  },
  {
   "cell_type": "code",
   "execution_count": null,
   "metadata": {},
   "outputs": [],
   "source": [
    "matrix_heatmap(csr_d.toarray())"
   ]
  }
 ],
 "metadata": {
  "kernelspec": {
   "display_name": "Python 3",
   "language": "python",
   "name": "python3"
  },
  "language_info": {
   "codemirror_mode": {
    "name": "ipython",
    "version": 3
   },
   "file_extension": ".py",
   "mimetype": "text/x-python",
   "name": "python",
   "nbconvert_exporter": "python",
   "pygments_lexer": "ipython3",
   "version": "3.7.10"
  }
 },
 "nbformat": 4,
 "nbformat_minor": 4
}
